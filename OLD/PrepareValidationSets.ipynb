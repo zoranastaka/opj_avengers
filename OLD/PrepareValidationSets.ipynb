{
 "cells": [
  {
   "cell_type": "code",
   "execution_count": 25,
   "metadata": {},
   "outputs": [],
   "source": [
    "import warnings\n",
    "warnings.filterwarnings(\"ignore\")\n",
    "\n",
    "import pandas as pd\n",
    "import numpy as np"
   ]
  },
  {
   "cell_type": "code",
   "execution_count": 38,
   "metadata": {},
   "outputs": [],
   "source": [
    "df = pd.read_csv('data/annotation_merged.csv')\n",
    "df.drop(['Unnamed: 0', 'upit\\n'], inplace=True, axis=1)"
   ]
  },
  {
   "cell_type": "code",
   "execution_count": 39,
   "metadata": {},
   "outputs": [],
   "source": [
    "df.head()\n",
    "df_upiti = df.copy().drop(['pair_id', 'comment', 'Komentar', 'code'], axis=1)"
   ]
  },
  {
   "cell_type": "code",
   "execution_count": 40,
   "metadata": {},
   "outputs": [],
   "source": [
    "upiti = [column.strip() for column in df_upiti.columns]"
   ]
  },
  {
   "cell_type": "code",
   "execution_count": 41,
   "metadata": {},
   "outputs": [],
   "source": [
    "df.columns = ['pair_id', 'comment', 'Komentar', 'code'] + upiti"
   ]
  },
  {
   "cell_type": "code",
   "execution_count": 43,
   "metadata": {},
   "outputs": [],
   "source": [
    "lista_uzoraka = []\n",
    "for i, row in df.iterrows():\n",
    "    for upitid, upit in enumerate(upiti):\n",
    "        lista_uzoraka.append(['PHP', upitid, row['pair_id'], upit, row['Komentar'], row[upit]])\n",
    "        \n",
    "df_uzorci = pd.DataFrame(\n",
    "    lista_uzoraka, columns = ['ProgrammingLanguageName', 'QueryID', 'PairID', 'QueryText', 'CommentText', 'SimilarityScore']\n",
    ").astype(\n",
    "    {\n",
    "        'ProgrammingLanguageName': str,\n",
    "        'QueryID': int,\n",
    "        'PairID': str,\n",
    "        'QueryText': str,\n",
    "        'CommentText': str,\n",
    "        'SimilarityScore': int\n",
    "    }\n",
    ")"
   ]
  },
  {
   "cell_type": "code",
   "execution_count": 46,
   "metadata": {},
   "outputs": [],
   "source": [
    "df_validation = df_uzorci.sample(frac=0.1)"
   ]
  },
  {
   "cell_type": "code",
   "execution_count": 49,
   "metadata": {},
   "outputs": [],
   "source": [
    "df_validation.to_csv('Dobar_format.txt', sep='\\t')"
   ]
  },
  {
   "cell_type": "code",
   "execution_count": null,
   "metadata": {},
   "outputs": [],
   "source": []
  }
 ],
 "metadata": {
  "kernelspec": {
   "display_name": "Python 3",
   "language": "python",
   "name": "python3"
  },
  "language_info": {
   "codemirror_mode": {
    "name": "ipython",
    "version": 3
   },
   "file_extension": ".py",
   "mimetype": "text/x-python",
   "name": "python",
   "nbconvert_exporter": "python",
   "pygments_lexer": "ipython3",
   "version": "3.6.9"
  }
 },
 "nbformat": 4,
 "nbformat_minor": 4
}