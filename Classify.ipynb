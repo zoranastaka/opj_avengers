{
 "cells": [
  {
   "cell_type": "code",
   "execution_count": 2,
   "metadata": {},
   "outputs": [],
   "source": [
    "import pandas as pd\n",
    "from sklearn.model_selection import cross_val_score\n",
    "from sklearn.model_selection import StratifiedKFold\n",
    "from sklearn.metrics import precision_score, recall_score, f1_score, accuracy_score, roc_curve, auc\n",
    "from sklearn.metrics import confusion_matrix\n",
    "from sklearn.preprocessing import StandardScaler\n",
    "\n",
    "from sklearn.linear_model import LogisticRegression\n",
    "from sklearn.svm import SVC, LinearSVC\n",
    "from sklearn.naive_bayes import MultinomialNB\n",
    "\n",
    "from utility import classification\n",
    "from datetime import datetime"
   ]
  },
  {
   "cell_type": "code",
   "execution_count": 3,
   "metadata": {},
   "outputs": [],
   "source": [
    "import warnings\n",
    "warnings.filterwarnings('ignore')"
   ]
  },
  {
   "cell_type": "code",
   "execution_count": null,
   "metadata": {},
   "outputs": [],
   "source": []
  },
  {
   "cell_type": "code",
   "execution_count": 4,
   "metadata": {},
   "outputs": [],
   "source": [
    "files = [\n",
    "    'data/training/no_preprocessing.csv',\n",
    "    'data/training/freq_filt.csv',\n",
    "    'data/training/lowercase.csv',\n",
    "    'data/training/ngrams.csv',\n",
    "    'data/training/stem.csv',\n",
    "    'data/training/tf_ponderisanje.csv',\n",
    "    'data/training/tfidf_ponderisanje.csv'\n",
    "]\n",
    "\n",
    "C = [0.03, 0.1, 1, 10, 30]\n",
    "C_SVC = [0.25, 1, 4]\n",
    "\n"
   ]
  },
  {
   "cell_type": "code",
   "execution_count": 5,
   "metadata": {},
   "outputs": [],
   "source": [
    "classifiers = {\n",
    "    'MNB': {name.split('/')[-1].split('.')[0]: [] for name in files},\n",
    "    'LogReg': {name.split('/')[-1].split('.')[0]: {c: [] for c in C} for name in files},\n",
    "    'SVM': {name.split('/')[-1].split('.')[0]: {c: [] for c in C_SVC} for name in files}\n",
    "}"
   ]
  },
  {
   "cell_type": "code",
   "execution_count": 6,
   "metadata": {},
   "outputs": [],
   "source": [
    "Classification_Results = pd.DataFrame(columns=['dataset', 'classifier', 'hyperparameter', 'metric', 'value'])"
   ]
  },
  {
   "cell_type": "code",
   "execution_count": 7,
   "metadata": {},
   "outputs": [],
   "source": [
    "dataframes = {\n",
    "    name.split('/')[-1].split('.')[0]: pd.read_csv(name) for name in files\n",
    "}\n"
   ]
  },
  {
   "cell_type": "markdown",
   "metadata": {},
   "source": [
    "## Logisticka regresija"
   ]
  },
  {
   "cell_type": "code",
   "execution_count": 33,
   "metadata": {},
   "outputs": [
    {
     "name": "stdout",
     "output_type": "stream",
     "text": [
      "No preprocessing already processed :) \n",
      "freq_filt\n",
      "0\n",
      "Done with LogReg\n",
      "freq_filt\n",
      "0\n",
      "Done with LogReg\n",
      "freq_filt\n",
      "0\n",
      "Done with LogReg\n",
      "freq_filt\n",
      "0\n",
      "Done with LogReg\n",
      "freq_filt\n",
      "0\n",
      "Done with LogReg\n",
      "freq_filt\n",
      "0\n",
      "Done with LogReg\n",
      "freq_filt\n",
      "0\n",
      "Done with LogReg\n",
      "freq_filt\n",
      "0\n",
      "Done with LogReg\n",
      "freq_filt\n",
      "0\n",
      "Done with LogReg\n",
      "freq_filt\n",
      "0\n",
      "Done with LogReg\n",
      "Done with freq_filt\n",
      "Current Time = 12:46:58\n",
      "lowercase\n",
      "0\n",
      "Done with LogReg\n",
      "lowercase\n",
      "0\n",
      "Done with LogReg\n",
      "lowercase\n",
      "0\n",
      "Done with LogReg\n",
      "lowercase\n",
      "0\n",
      "Done with LogReg\n",
      "lowercase\n",
      "0\n",
      "Done with LogReg\n",
      "lowercase\n",
      "0\n",
      "Done with LogReg\n",
      "lowercase\n",
      "0\n",
      "Done with LogReg\n",
      "lowercase\n",
      "0\n",
      "Done with LogReg\n",
      "lowercase\n",
      "0\n",
      "Done with LogReg\n",
      "lowercase\n",
      "0\n",
      "Done with LogReg\n",
      "Done with lowercase\n",
      "Current Time = 12:53:10\n",
      "ngrams\n",
      "0\n",
      "Done with LogReg\n",
      "ngrams\n",
      "0\n",
      "Done with LogReg\n",
      "ngrams\n",
      "0\n",
      "Done with LogReg\n",
      "ngrams\n",
      "0\n",
      "Done with LogReg\n",
      "ngrams\n",
      "0\n",
      "Done with LogReg\n",
      "ngrams\n",
      "0\n",
      "Done with LogReg\n",
      "ngrams\n",
      "0\n",
      "Done with LogReg\n",
      "ngrams\n",
      "0\n",
      "Done with LogReg\n",
      "ngrams\n",
      "0\n",
      "Done with LogReg\n",
      "ngrams\n",
      "0\n",
      "Done with LogReg\n",
      "Done with ngrams\n",
      "Current Time = 12:59:56\n",
      "stem\n",
      "0\n",
      "Done with LogReg\n",
      "stem\n",
      "0\n",
      "Done with LogReg\n",
      "stem\n",
      "0\n",
      "Done with LogReg\n",
      "stem\n",
      "0\n",
      "Done with LogReg\n",
      "stem\n",
      "0\n",
      "Done with LogReg\n",
      "stem\n",
      "0\n",
      "Done with LogReg\n",
      "stem\n",
      "0\n",
      "Done with LogReg\n",
      "stem\n",
      "0\n",
      "Done with LogReg\n",
      "stem\n",
      "0\n",
      "Done with LogReg\n",
      "stem\n",
      "0\n",
      "Done with LogReg\n",
      "Done with stem\n",
      "Current Time = 13:06:10\n",
      "tf_ponderisanje\n",
      "0\n",
      "Done with LogReg\n",
      "tf_ponderisanje\n",
      "0\n",
      "Done with LogReg\n",
      "tf_ponderisanje\n",
      "0\n",
      "Done with LogReg\n",
      "tf_ponderisanje\n",
      "0\n",
      "Done with LogReg\n",
      "tf_ponderisanje\n",
      "0\n",
      "Done with LogReg\n",
      "tf_ponderisanje\n",
      "0\n",
      "Done with LogReg\n",
      "tf_ponderisanje\n",
      "0\n",
      "Done with LogReg\n",
      "tf_ponderisanje\n",
      "0\n",
      "Done with LogReg\n",
      "tf_ponderisanje\n",
      "0\n",
      "Done with LogReg\n",
      "tf_ponderisanje\n",
      "0\n",
      "Done with LogReg\n",
      "Done with tf_ponderisanje\n",
      "Current Time = 13:12:17\n"
     ]
    }
   ],
   "source": [
    "for data in dataframes:\n",
    "    # Privremeno preskakanje jer je ovo polje vec obradjeno\n",
    "#     if data == 'no_preprocessing':\n",
    "#         print('No preprocessing already processed :) ')\n",
    "#         continue\n",
    "    dataframes[data].dropna(inplace=True)\n",
    "    \n",
    "    y = dataframes[data]['Score'].copy()\n",
    "    X = dataframes[data].drop(columns=['PairID', 'QueryID', 'Comment', 'Query', 'Score']).copy()\n",
    "    y.reset_index(drop=True, inplace=True)\n",
    "    scaler = StandardScaler()\n",
    "    scaler.fit(X)\n",
    "    X = scaler.transform(X)\n",
    "    \n",
    "    skf = StratifiedKFold(n_splits=10)\n",
    "    \n",
    "    for train_index, test_index in skf.split(X, y):\n",
    "        X_train, X_test = X[train_index], X[test_index]\n",
    "        y_train, y_test = y[train_index], y[test_index]\n",
    "        \n",
    "        # Logistic regression\n",
    "        for c in C:\n",
    "            clf = LogisticRegression(\n",
    "                penalty='l2', \n",
    "                C=c, \n",
    "                multi_class='multinomial', \n",
    "                solver='saga',\n",
    "                class_weight='balanced'\n",
    "            ).fit(X_train, y_train)\n",
    "\n",
    "            classifiers['LogReg'][data][c].append(clf)\n",
    "\n",
    "            y_pred = clf.predict(X_test)\n",
    "\n",
    "            Classification_Results.loc[len(Classification_Results)] = [\n",
    "                data, 'LogReg', c, 'recall', recall_score(y_test, y_pred, average='macro')\n",
    "            ]\n",
    "            Classification_Results.loc[len(Classification_Results)] = [\n",
    "                data, 'LogReg', c, 'precision', precision_score(y_test, y_pred, average='macro')\n",
    "            ]\n",
    "            Classification_Results.loc[len(Classification_Results)] = [\n",
    "                data, 'LogReg', c, 'fscore', f1_score(y_test, y_pred, average='macro')\n",
    "            ]\n",
    "        print('Done with LogReg')\n",
    "    \n",
    "    print('Done with {}'.format(data))\n",
    "    now = datetime.now()\n",
    "    current_time = now.strftime(\"%H:%M:%S\")\n",
    "    print(\"Current Time =\", current_time)\n",
    "    "
   ]
  },
  {
   "cell_type": "code",
   "execution_count": null,
   "metadata": {},
   "outputs": [],
   "source": [
    "Classification_Results.to_csv('temp_results.csv')"
   ]
  },
  {
   "cell_type": "markdown",
   "metadata": {},
   "source": [
    "## SVM"
   ]
  },
  {
   "cell_type": "code",
   "execution_count": 8,
   "metadata": {},
   "outputs": [
    {
     "name": "stdout",
     "output_type": "stream",
     "text": [
      "No preprocessing already processed :) \n"
     ]
    },
    {
     "ename": "KeyboardInterrupt",
     "evalue": "",
     "output_type": "error",
     "traceback": [
      "\u001b[0;31m---------------------------------------------------------------------------\u001b[0m",
      "\u001b[0;31mKeyboardInterrupt\u001b[0m                         Traceback (most recent call last)",
      "\u001b[0;32m<ipython-input-8-4106c1cfb5f1>\u001b[0m in \u001b[0;36m<module>\u001b[0;34m\u001b[0m\n\u001b[1;32m     25\u001b[0m                 \u001b[0mC\u001b[0m\u001b[0;34m=\u001b[0m\u001b[0mc\u001b[0m\u001b[0;34m,\u001b[0m\u001b[0;34m\u001b[0m\u001b[0;34m\u001b[0m\u001b[0m\n\u001b[1;32m     26\u001b[0m                 \u001b[0mclass_weight\u001b[0m\u001b[0;34m=\u001b[0m\u001b[0;34m'balanced'\u001b[0m\u001b[0;34m\u001b[0m\u001b[0;34m\u001b[0m\u001b[0m\n\u001b[0;32m---> 27\u001b[0;31m             ).fit(X_train, y_train)\n\u001b[0m\u001b[1;32m     28\u001b[0m \u001b[0;34m\u001b[0m\u001b[0m\n\u001b[1;32m     29\u001b[0m             \u001b[0mclassifiers\u001b[0m\u001b[0;34m[\u001b[0m\u001b[0;34m'SVM'\u001b[0m\u001b[0;34m]\u001b[0m\u001b[0;34m[\u001b[0m\u001b[0mdata\u001b[0m\u001b[0;34m]\u001b[0m\u001b[0;34m[\u001b[0m\u001b[0mc\u001b[0m\u001b[0;34m]\u001b[0m\u001b[0;34m.\u001b[0m\u001b[0mappend\u001b[0m\u001b[0;34m(\u001b[0m\u001b[0mclf\u001b[0m\u001b[0;34m)\u001b[0m\u001b[0;34m\u001b[0m\u001b[0;34m\u001b[0m\u001b[0m\n",
      "\u001b[0;32m~/anaconda/lib/python3.6/site-packages/sklearn/svm/_classes.py\u001b[0m in \u001b[0;36mfit\u001b[0;34m(self, X, y, sample_weight)\u001b[0m\n\u001b[1;32m    236\u001b[0m             \u001b[0mself\u001b[0m\u001b[0;34m.\u001b[0m\u001b[0mclass_weight\u001b[0m\u001b[0;34m,\u001b[0m \u001b[0mself\u001b[0m\u001b[0;34m.\u001b[0m\u001b[0mpenalty\u001b[0m\u001b[0;34m,\u001b[0m \u001b[0mself\u001b[0m\u001b[0;34m.\u001b[0m\u001b[0mdual\u001b[0m\u001b[0;34m,\u001b[0m \u001b[0mself\u001b[0m\u001b[0;34m.\u001b[0m\u001b[0mverbose\u001b[0m\u001b[0;34m,\u001b[0m\u001b[0;34m\u001b[0m\u001b[0;34m\u001b[0m\u001b[0m\n\u001b[1;32m    237\u001b[0m             \u001b[0mself\u001b[0m\u001b[0;34m.\u001b[0m\u001b[0mmax_iter\u001b[0m\u001b[0;34m,\u001b[0m \u001b[0mself\u001b[0m\u001b[0;34m.\u001b[0m\u001b[0mtol\u001b[0m\u001b[0;34m,\u001b[0m \u001b[0mself\u001b[0m\u001b[0;34m.\u001b[0m\u001b[0mrandom_state\u001b[0m\u001b[0;34m,\u001b[0m \u001b[0mself\u001b[0m\u001b[0;34m.\u001b[0m\u001b[0mmulti_class\u001b[0m\u001b[0;34m,\u001b[0m\u001b[0;34m\u001b[0m\u001b[0;34m\u001b[0m\u001b[0m\n\u001b[0;32m--> 238\u001b[0;31m             self.loss, sample_weight=sample_weight)\n\u001b[0m\u001b[1;32m    239\u001b[0m \u001b[0;34m\u001b[0m\u001b[0m\n\u001b[1;32m    240\u001b[0m         \u001b[0;32mif\u001b[0m \u001b[0mself\u001b[0m\u001b[0;34m.\u001b[0m\u001b[0mmulti_class\u001b[0m \u001b[0;34m==\u001b[0m \u001b[0;34m\"crammer_singer\"\u001b[0m \u001b[0;32mand\u001b[0m \u001b[0mlen\u001b[0m\u001b[0;34m(\u001b[0m\u001b[0mself\u001b[0m\u001b[0;34m.\u001b[0m\u001b[0mclasses_\u001b[0m\u001b[0;34m)\u001b[0m \u001b[0;34m==\u001b[0m \u001b[0;36m2\u001b[0m\u001b[0;34m:\u001b[0m\u001b[0;34m\u001b[0m\u001b[0;34m\u001b[0m\u001b[0m\n",
      "\u001b[0;32m~/anaconda/lib/python3.6/site-packages/sklearn/svm/_base.py\u001b[0m in \u001b[0;36m_fit_liblinear\u001b[0;34m(X, y, C, fit_intercept, intercept_scaling, class_weight, penalty, dual, verbose, max_iter, tol, random_state, multi_class, loss, epsilon, sample_weight)\u001b[0m\n\u001b[1;32m    976\u001b[0m         \u001b[0mX\u001b[0m\u001b[0;34m,\u001b[0m \u001b[0my_ind\u001b[0m\u001b[0;34m,\u001b[0m \u001b[0msp\u001b[0m\u001b[0;34m.\u001b[0m\u001b[0misspmatrix\u001b[0m\u001b[0;34m(\u001b[0m\u001b[0mX\u001b[0m\u001b[0;34m)\u001b[0m\u001b[0;34m,\u001b[0m \u001b[0msolver_type\u001b[0m\u001b[0;34m,\u001b[0m \u001b[0mtol\u001b[0m\u001b[0;34m,\u001b[0m \u001b[0mbias\u001b[0m\u001b[0;34m,\u001b[0m \u001b[0mC\u001b[0m\u001b[0;34m,\u001b[0m\u001b[0;34m\u001b[0m\u001b[0;34m\u001b[0m\u001b[0m\n\u001b[1;32m    977\u001b[0m         \u001b[0mclass_weight_\u001b[0m\u001b[0;34m,\u001b[0m \u001b[0mmax_iter\u001b[0m\u001b[0;34m,\u001b[0m \u001b[0mrnd\u001b[0m\u001b[0;34m.\u001b[0m\u001b[0mrandint\u001b[0m\u001b[0;34m(\u001b[0m\u001b[0mnp\u001b[0m\u001b[0;34m.\u001b[0m\u001b[0miinfo\u001b[0m\u001b[0;34m(\u001b[0m\u001b[0;34m'i'\u001b[0m\u001b[0;34m)\u001b[0m\u001b[0;34m.\u001b[0m\u001b[0mmax\u001b[0m\u001b[0;34m)\u001b[0m\u001b[0;34m,\u001b[0m\u001b[0;34m\u001b[0m\u001b[0;34m\u001b[0m\u001b[0m\n\u001b[0;32m--> 978\u001b[0;31m         epsilon, sample_weight)\n\u001b[0m\u001b[1;32m    979\u001b[0m     \u001b[0;31m# Regarding rnd.randint(..) in the above signature:\u001b[0m\u001b[0;34m\u001b[0m\u001b[0;34m\u001b[0m\u001b[0;34m\u001b[0m\u001b[0m\n\u001b[1;32m    980\u001b[0m     \u001b[0;31m# seed for srand in range [0..INT_MAX); due to limitations in Numpy\u001b[0m\u001b[0;34m\u001b[0m\u001b[0;34m\u001b[0m\u001b[0;34m\u001b[0m\u001b[0m\n",
      "\u001b[0;31mKeyboardInterrupt\u001b[0m: "
     ]
    }
   ],
   "source": [
    "# SVC\n",
    "\n",
    "for data in dataframes:\n",
    "    # Privremeno preskakanje jer je ovo polje vec obradjeno\n",
    "#     if data == 'no_preprocessing':\n",
    "#         print('No preprocessing already processed :) ')\n",
    "#         continue\n",
    "    \n",
    "    dataframes[data].dropna(inplace=True)\n",
    "    y = dataframes[data]['Score'].copy()\n",
    "    X = dataframes[data].drop(columns=['PairID', 'QueryID', 'Comment', 'Query', 'Score']).copy()\n",
    "    \n",
    "    y.reset_index(drop=True, inplace=True)\n",
    "    scaler = StandardScaler()\n",
    "    scaler.fit(X)\n",
    "    X = scaler.transform(X)\n",
    "    \n",
    "    skf = StratifiedKFold(n_splits=10)\n",
    "    \n",
    "    for train_index, test_index in skf.split(X, y):\n",
    "        X_train, X_test = X[train_index], X[test_index]\n",
    "        y_train, y_test = y[train_index], y[test_index]\n",
    "\n",
    "        # SVC\n",
    "        for c in C_SVC:\n",
    "            clf = LinearSVC(\n",
    "                C=c,\n",
    "                class_weight='balanced',\n",
    "                max_iter=120,\n",
    "                loss='hinge'\n",
    "            ).fit(X_train, y_train)\n",
    "\n",
    "            classifiers['SVM'][data][c].append(clf)\n",
    "\n",
    "            y_pred = clf.predict(X_test)\n",
    "\n",
    "            Classification_Results.loc[len(Classification_Results)] = [\n",
    "                data, 'SVM', c, 'recall', recall_score(y_test, y_pred, average='macro')\n",
    "            ]\n",
    "            Classification_Results.loc[len(Classification_Results)] = [\n",
    "                data, 'SVM', c, 'precision', precision_score(y_test, y_pred, average='macro')\n",
    "            ]\n",
    "            Classification_Results.loc[len(Classification_Results)] = [\n",
    "                data, 'SVM', c, 'fscore', f1_score(y_test, y_pred, average='macro')\n",
    "            ]\n",
    "        print('Done with SVC')\n",
    "    now = datetime.now()\n",
    "    current_time = now.strftime(\"%H:%M:%S\")\n",
    "    print(\"Current Time =\", current_time)"
   ]
  },
  {
   "cell_type": "code",
   "execution_count": null,
   "metadata": {},
   "outputs": [],
   "source": [
    "Classification_Results.to_csv('temp_results_v2.csv')"
   ]
  },
  {
   "cell_type": "markdown",
   "metadata": {},
   "source": [
    "## MNB"
   ]
  },
  {
   "cell_type": "code",
   "execution_count": 42,
   "metadata": {},
   "outputs": [
    {
     "name": "stdout",
     "output_type": "stream",
     "text": [
      "Current Time = 16:55:25\n",
      "Current Time = 16:55:26\n",
      "Current Time = 16:55:26\n",
      "Current Time = 16:55:27\n",
      "Current Time = 16:55:28\n",
      "Current Time = 16:55:28\n"
     ]
    }
   ],
   "source": [
    "# MNB\n",
    "\n",
    "for data in dataframes:\n",
    "    dataframes[data].dropna(inplace=True)\n",
    "    y = dataframes[data]['Score'].copy()\n",
    "    X = dataframes[data].drop(columns=['PairID', 'QueryID', 'Comment', 'Query', 'Score']).copy().values\n",
    "    \n",
    "    y.reset_index(drop=True, inplace=True)\n",
    "#     X.reset_index(drop=True, inplace=True)\n",
    "    \n",
    "    skf = StratifiedKFold(n_splits=10)\n",
    "    \n",
    "    for train_index, test_index in skf.split(X, y):\n",
    "        X_train, X_test = X[train_index], X[test_index]\n",
    "        y_train, y_test = y[train_index], y[test_index]\n",
    "\n",
    "        # MNB\n",
    "        clf = MultinomialNB().fit(X_train, y_train)\n",
    "        classifiers['MNB'][data].append(clf)\n",
    "        y_pred = clf.predict(X_test)\n",
    "        Classification_Results.loc[len(Classification_Results)] = [\n",
    "            data, 'MNB', 0, 'recall', recall_score(y_test, y_pred, average='macro')\n",
    "        ]\n",
    "        Classification_Results.loc[len(Classification_Results)] = [\n",
    "            data, 'MNB', 0, 'precision', precision_score(y_test, y_pred, average='macro')\n",
    "        ]\n",
    "        Classification_Results.loc[len(Classification_Results)] = [\n",
    "            data, 'MNB', 0, 'fscore', f1_score(y_test, y_pred, average='macro')\n",
    "        ]\n",
    "        \n",
    "    now = datetime.now()\n",
    "    current_time = now.strftime(\"%H:%M:%S\")\n",
    "    print(\"Current Time =\", current_time)"
   ]
  },
  {
   "cell_type": "code",
   "execution_count": 43,
   "metadata": {},
   "outputs": [],
   "source": [
    "Classification_Results.to_csv('Final_results.csv')"
   ]
  },
  {
   "cell_type": "code",
   "execution_count": 58,
   "metadata": {},
   "outputs": [
    {
     "data": {
      "text/plain": [
       "'no_preprocessing'"
      ]
     },
     "execution_count": 58,
     "metadata": {},
     "output_type": "execute_result"
    }
   ],
   "source": [
    "'data/training/no_preprocessing.csv'.split('/')[-1].split('.')[0]"
   ]
  },
  {
   "cell_type": "markdown",
   "metadata": {},
   "source": [
    "## No preprocessing"
   ]
  },
  {
   "cell_type": "code",
   "execution_count": 2,
   "metadata": {},
   "outputs": [
    {
     "data": {
      "text/html": [
       "<div>\n",
       "<style scoped>\n",
       "    .dataframe tbody tr th:only-of-type {\n",
       "        vertical-align: middle;\n",
       "    }\n",
       "\n",
       "    .dataframe tbody tr th {\n",
       "        vertical-align: top;\n",
       "    }\n",
       "\n",
       "    .dataframe thead th {\n",
       "        text-align: right;\n",
       "    }\n",
       "</style>\n",
       "<table border=\"1\" class=\"dataframe\">\n",
       "  <thead>\n",
       "    <tr style=\"text-align: right;\">\n",
       "      <th></th>\n",
       "      <th>PairID</th>\n",
       "      <th>QueryID</th>\n",
       "      <th>Comment</th>\n",
       "      <th>Query</th>\n",
       "      <th>Score</th>\n",
       "      <th>WordCountComment</th>\n",
       "      <th>WordCountQuery</th>\n",
       "      <th>MutualUnique</th>\n",
       "      <th>MutualWithRepetition</th>\n",
       "      <th>BOW</th>\n",
       "    </tr>\n",
       "  </thead>\n",
       "  <tbody>\n",
       "    <tr>\n",
       "      <td>0</td>\n",
       "      <td>BookStackApp_BookStack_ActivityService_740</td>\n",
       "      <td>0</td>\n",
       "      <td>Daj novu instancu aktivnosti za trenutnog kori...</td>\n",
       "      <td>red sa prioritetom</td>\n",
       "      <td>0</td>\n",
       "      <td>7</td>\n",
       "      <td>3</td>\n",
       "      <td>0</td>\n",
       "      <td>0</td>\n",
       "      <td>0.0</td>\n",
       "    </tr>\n",
       "    <tr>\n",
       "      <td>1</td>\n",
       "      <td>BookStackApp_BookStack_ActivityService_740</td>\n",
       "      <td>1</td>\n",
       "      <td>Daj novu instancu aktivnosti za trenutnog kori...</td>\n",
       "      <td>pretvaranje string u datum</td>\n",
       "      <td>0</td>\n",
       "      <td>7</td>\n",
       "      <td>4</td>\n",
       "      <td>0</td>\n",
       "      <td>0</td>\n",
       "      <td>0.0</td>\n",
       "    </tr>\n",
       "    <tr>\n",
       "      <td>2</td>\n",
       "      <td>BookStackApp_BookStack_ActivityService_740</td>\n",
       "      <td>2</td>\n",
       "      <td>Daj novu instancu aktivnosti za trenutnog kori...</td>\n",
       "      <td>sortiranje string liste</td>\n",
       "      <td>0</td>\n",
       "      <td>7</td>\n",
       "      <td>3</td>\n",
       "      <td>0</td>\n",
       "      <td>0</td>\n",
       "      <td>0.0</td>\n",
       "    </tr>\n",
       "  </tbody>\n",
       "</table>\n",
       "</div>"
      ],
      "text/plain": [
       "                                       PairID  QueryID  \\\n",
       "0  BookStackApp_BookStack_ActivityService_740        0   \n",
       "1  BookStackApp_BookStack_ActivityService_740        1   \n",
       "2  BookStackApp_BookStack_ActivityService_740        2   \n",
       "\n",
       "                                             Comment  \\\n",
       "0  Daj novu instancu aktivnosti za trenutnog kori...   \n",
       "1  Daj novu instancu aktivnosti za trenutnog kori...   \n",
       "2  Daj novu instancu aktivnosti za trenutnog kori...   \n",
       "\n",
       "                        Query  Score  WordCountComment  WordCountQuery  \\\n",
       "0          red sa prioritetom      0                 7               3   \n",
       "1  pretvaranje string u datum      0                 7               4   \n",
       "2     sortiranje string liste      0                 7               3   \n",
       "\n",
       "   MutualUnique  MutualWithRepetition  BOW  \n",
       "0             0                     0  0.0  \n",
       "1             0                     0  0.0  \n",
       "2             0                     0  0.0  "
      ]
     },
     "execution_count": 2,
     "metadata": {},
     "output_type": "execute_result"
    }
   ],
   "source": [
    "df = pd.read_csv('data/training/no_preprocessing.csv')\n",
    "df.head(3)"
   ]
  },
  {
   "cell_type": "code",
   "execution_count": 48,
   "metadata": {},
   "outputs": [],
   "source": [
    "from sklearn.preprocessing import StandardScaler\n",
    "X = df[['WordCountComment', 'WordCountQuery', 'MutualUnique', 'MutualWithRepetition', 'BOW']]\n",
    "y = df['Score']\n",
    "\n",
    "scaler.fit(X)\n",
    "X = scaler.transform(X)\n",
    "\n",
    "X_train, X_test, y_train, y_test = train_test_split(X, y, test_size=0.2, random_state=0)\n",
    "scaler = StandardScaler()\n",
    "scaler.fit(X_train)\n",
    "\n",
    "X_train = scaler.transform(X_train)\n",
    "X_test = scaler.transform(X_test)\n"
   ]
  },
  {
   "cell_type": "markdown",
   "metadata": {},
   "source": [
    "### Logistic regression"
   ]
  },
  {
   "cell_type": "code",
   "execution_count": 4,
   "metadata": {},
   "outputs": [],
   "source": [
    "from sklearn.linear_model import LogisticRegression"
   ]
  },
  {
   "cell_type": "markdown",
   "metadata": {},
   "source": [
    "#### Upoređivanje L1 i L2 regularizacije"
   ]
  },
  {
   "cell_type": "code",
   "execution_count": 49,
   "metadata": {},
   "outputs": [
    {
     "name": "stderr",
     "output_type": "stream",
     "text": [
      "/Users/boris_majic/anaconda/lib/python3.6/site-packages/sklearn/linear_model/_sag.py:329: ConvergenceWarning: The max_iter was reached which means the coef_ did not converge\n",
      "  \"the coef_ did not converge\", ConvergenceWarning)\n",
      "/Users/boris_majic/anaconda/lib/python3.6/site-packages/sklearn/linear_model/_sag.py:329: ConvergenceWarning: The max_iter was reached which means the coef_ did not converge\n",
      "  \"the coef_ did not converge\", ConvergenceWarning)\n"
     ]
    }
   ],
   "source": [
    "l1 = LogisticRegression(penalty='l1', solver='saga', class_weight='balanced', max_iter=200).fit(X_train, y_train)\n",
    "y_pred_l1 = l1.predict(X_test)\n",
    "\n",
    "l2 = LogisticRegression(penalty='l2', solver='saga', class_weight='balanced', max_iter=200).fit(X_train, y_train)\n",
    "y_pred_l2 = l2.predict(X_test)\n",
    "\n",
    "l2_2 = LogisticRegression(penalty='l2', solver='lbfgs', class_weight='balanced', max_iter=200).fit(X_train, y_train)\n",
    "y_pred_v2 = l2.predict(X_test)\n"
   ]
  },
  {
   "cell_type": "code",
   "execution_count": 50,
   "metadata": {},
   "outputs": [
    {
     "data": {
      "text/plain": [
       "array([[13830,  8293,  1092,  3914],\n",
       "       [   28,    34,     4,    25],\n",
       "       [    9,    19,     2,    11],\n",
       "       [    7,     9,     1,     6]])"
      ]
     },
     "execution_count": 50,
     "metadata": {},
     "output_type": "execute_result"
    }
   ],
   "source": [
    "from sklearn.metrics import confusion_matrix\n",
    "\n",
    "confusion_matrix(y_test, y_pred_l2)"
   ]
  },
  {
   "cell_type": "code",
   "execution_count": 51,
   "metadata": {},
   "outputs": [
    {
     "data": {
      "text/plain": [
       "array([[15012,  2175,  4532,  5410],\n",
       "       [   31,     9,    17,    34],\n",
       "       [    9,     7,    11,    14],\n",
       "       [    8,     4,     3,     8]])"
      ]
     },
     "execution_count": 51,
     "metadata": {},
     "output_type": "execute_result"
    }
   ],
   "source": [
    "from sklearn.metrics import confusion_matrix\n",
    "\n",
    "confusion_matrix(y_test, y_pred_l1)"
   ]
  },
  {
   "cell_type": "code",
   "execution_count": 52,
   "metadata": {},
   "outputs": [
    {
     "data": {
      "text/plain": [
       "array([[13830,  8293,  1092,  3914],\n",
       "       [   28,    34,     4,    25],\n",
       "       [    9,    19,     2,    11],\n",
       "       [    7,     9,     1,     6]])"
      ]
     },
     "execution_count": 52,
     "metadata": {},
     "output_type": "execute_result"
    }
   ],
   "source": [
    "from sklearn.metrics import confusion_matrix\n",
    "\n",
    "confusion_matrix(y_test, y_pred_v2)"
   ]
  },
  {
   "cell_type": "code",
   "execution_count": 38,
   "metadata": {},
   "outputs": [
    {
     "name": "stderr",
     "output_type": "stream",
     "text": [
      "/Users/boris_majic/anaconda/lib/python3.6/site-packages/sklearn/linear_model/_sag.py:329: ConvergenceWarning: The max_iter was reached which means the coef_ did not converge\n",
      "  \"the coef_ did not converge\", ConvergenceWarning)\n",
      "/Users/boris_majic/anaconda/lib/python3.6/site-packages/sklearn/linear_model/_sag.py:329: ConvergenceWarning: The max_iter was reached which means the coef_ did not converge\n",
      "  \"the coef_ did not converge\", ConvergenceWarning)\n"
     ]
    }
   ],
   "source": [
    "l1 = LogisticRegression(penalty='l1', solver='saga', class_weight='balanced', max_iter=500).fit(X_train, y_train)\n",
    "l2 = LogisticRegression(penalty='l2', solver='saga', class_weight='balanced', max_iter=500).fit(X_train, y_train)\n",
    "\n"
   ]
  },
  {
   "cell_type": "code",
   "execution_count": 96,
   "metadata": {},
   "outputs": [
    {
     "data": {
      "text/html": [
       "<div>\n",
       "<style scoped>\n",
       "    .dataframe tbody tr th:only-of-type {\n",
       "        vertical-align: middle;\n",
       "    }\n",
       "\n",
       "    .dataframe tbody tr th {\n",
       "        vertical-align: top;\n",
       "    }\n",
       "\n",
       "    .dataframe thead th {\n",
       "        text-align: right;\n",
       "    }\n",
       "</style>\n",
       "<table border=\"1\" class=\"dataframe\">\n",
       "  <thead>\n",
       "    <tr style=\"text-align: right;\">\n",
       "      <th></th>\n",
       "      <th>DataType</th>\n",
       "      <th>Model Name</th>\n",
       "      <th>precision_micro</th>\n",
       "      <th>precision_macro</th>\n",
       "      <th>precision_weighted</th>\n",
       "      <th>recall_micro</th>\n",
       "      <th>recall_macro</th>\n",
       "      <th>recall_weighted</th>\n",
       "      <th>F1_micro</th>\n",
       "      <th>F1_macro</th>\n",
       "      <th>F1_weighted</th>\n",
       "      <th>Accuracy</th>\n",
       "      <th>auc_class_0</th>\n",
       "      <th>auc_class_1</th>\n",
       "      <th>auc_class_2</th>\n",
       "      <th>auc_class_3</th>\n",
       "    </tr>\n",
       "  </thead>\n",
       "  <tbody>\n",
       "    <tr>\n",
       "      <td>0</td>\n",
       "      <td>test</td>\n",
       "      <td>L1</td>\n",
       "      <td>0.547464</td>\n",
       "      <td>0.251412</td>\n",
       "      <td>0.991148</td>\n",
       "      <td>0.547464</td>\n",
       "      <td>0.342440</td>\n",
       "      <td>0.547464</td>\n",
       "      <td>0.547464</td>\n",
       "      <td>0.181339</td>\n",
       "      <td>0.704515</td>\n",
       "      <td>0.547464</td>\n",
       "      <td>0.669989</td>\n",
       "      <td>0.518418</td>\n",
       "      <td>0.634174</td>\n",
       "      <td>0.672911</td>\n",
       "    </tr>\n",
       "    <tr>\n",
       "      <td>1</td>\n",
       "      <td>test</td>\n",
       "      <td>L2</td>\n",
       "      <td>0.563627</td>\n",
       "      <td>0.252080</td>\n",
       "      <td>0.991182</td>\n",
       "      <td>0.563627</td>\n",
       "      <td>0.343035</td>\n",
       "      <td>0.563627</td>\n",
       "      <td>0.563627</td>\n",
       "      <td>0.185888</td>\n",
       "      <td>0.717680</td>\n",
       "      <td>0.563627</td>\n",
       "      <td>0.670101</td>\n",
       "      <td>0.616508</td>\n",
       "      <td>0.615056</td>\n",
       "      <td>0.647121</td>\n",
       "    </tr>\n",
       "  </tbody>\n",
       "</table>\n",
       "</div>"
      ],
      "text/plain": [
       "  DataType Model Name  precision_micro  precision_macro  precision_weighted  \\\n",
       "0     test         L1         0.547464         0.251412            0.991148   \n",
       "1     test         L2         0.563627         0.252080            0.991182   \n",
       "\n",
       "   recall_micro  recall_macro  recall_weighted  F1_micro  F1_macro  \\\n",
       "0      0.547464      0.342440         0.547464  0.547464  0.181339   \n",
       "1      0.563627      0.343035         0.563627  0.563627  0.185888   \n",
       "\n",
       "   F1_weighted  Accuracy  auc_class_0  auc_class_1  auc_class_2  auc_class_3  \n",
       "0     0.704515  0.547464     0.669989     0.518418     0.634174     0.672911  \n",
       "1     0.717680  0.563627     0.670101     0.616508     0.615056     0.647121  "
      ]
     },
     "execution_count": 96,
     "metadata": {},
     "output_type": "execute_result"
    }
   ],
   "source": [
    "report_train_df = classification.model_report(X=X_test, y=y_test, models={'L1': l1, 'L2': l2}, data_type='test')\n",
    "report_train_df"
   ]
  },
  {
   "cell_type": "code",
   "execution_count": 7,
   "metadata": {},
   "outputs": [],
   "source": [
    "score_occurancies = {k: sum(y == k) for k in y.unique()}"
   ]
  },
  {
   "cell_type": "code",
   "execution_count": 8,
   "metadata": {},
   "outputs": [
    {
     "data": {
      "text/plain": [
       "{0: 135725, 1: 413, 2: 158, 3: 120}"
      ]
     },
     "execution_count": 8,
     "metadata": {},
     "output_type": "execute_result"
    }
   ],
   "source": [
    "score_occurancies"
   ]
  },
  {
   "cell_type": "code",
   "execution_count": 9,
   "metadata": {},
   "outputs": [
    {
     "data": {
      "text/plain": [
       "691"
      ]
     },
     "execution_count": 9,
     "metadata": {},
     "output_type": "execute_result"
    }
   ],
   "source": [
    "non_null = sum(y > 0)\n",
    "non_null"
   ]
  },
  {
   "cell_type": "code",
   "execution_count": 10,
   "metadata": {},
   "outputs": [],
   "source": [
    "def binary_weights(x):\n",
    "    if x > 0:\n",
    "        return 100/non_null\n",
    "    else:\n",
    "        return 100/score_occurancies[0]\n",
    "\n",
    "y_weigths_binary = y.apply(lambda x: binary_weights(x))"
   ]
  },
  {
   "cell_type": "code",
   "execution_count": 11,
   "metadata": {},
   "outputs": [],
   "source": [
    "y_weigths = y.apply(lambda x: 0.25/score_occurancies[x])"
   ]
  },
  {
   "cell_type": "code",
   "execution_count": 103,
   "metadata": {},
   "outputs": [
    {
     "name": "stdout",
     "output_type": "stream",
     "text": [
      "l2 recall - 0.34303509448298697\n",
      "l1 recall - 0.3424403948118258\n",
      "l2 precision - 0.33537629047132866\n",
      "l1 precision - 0.3518356495523185\n"
     ]
    }
   ],
   "source": [
    "\n",
    "\n",
    "print(f'l2 recall - {recall_score(y_test, y_pred_l2, average=\"macro\", sample_weight=y_weigths_binary)}')\n",
    "print(f'l1 recall - {recall_score(y_test, y_pred_l1, average=\"macro\", sample_weight=y_weigths_binary)}')\n",
    "print(f'l2 precision - {precision_score(y_test, y_pred_l2, average=\"macro\", sample_weight=y_weigths_binary)}')\n",
    "print(f'l1 precision - {precision_score(y_test, y_pred_l1, average=\"macro\", sample_weight=y_weigths_binary)}')\n",
    "# print(recall_score(y_test, y_pred_l2, average='macro', sample_weight=y_weigths))"
   ]
  },
  {
   "cell_type": "code",
   "execution_count": 40,
   "metadata": {},
   "outputs": [],
   "source": [
    "l1_pred = l1.predict(X_test)\n",
    "l2_pred = l2.predict(X_test)"
   ]
  },
  {
   "cell_type": "code",
   "execution_count": 41,
   "metadata": {},
   "outputs": [
    {
     "data": {
      "text/plain": [
       "array([[13402,  1209,  7810,  4708],\n",
       "       [   25,    11,    30,    25],\n",
       "       [    8,     1,    17,    15],\n",
       "       [    4,     2,     9,     8]])"
      ]
     },
     "execution_count": 41,
     "metadata": {},
     "output_type": "execute_result"
    }
   ],
   "source": [
    "confusion_matrix(y_test, l1_pred)"
   ]
  },
  {
   "cell_type": "code",
   "execution_count": 42,
   "metadata": {},
   "outputs": [
    {
     "data": {
      "text/plain": [
       "array([[15002,  1854,  4807,  5466],\n",
       "       [   31,    13,    18,    29],\n",
       "       [    9,     3,    13,    16],\n",
       "       [    8,     1,     5,     9]])"
      ]
     },
     "execution_count": 42,
     "metadata": {},
     "output_type": "execute_result"
    }
   ],
   "source": [
    "confusion_matrix(y_test, l2_pred)"
   ]
  },
  {
   "cell_type": "markdown",
   "metadata": {},
   "source": [
    "#### Pronalaženje optimalnog hiperparametra C"
   ]
  },
  {
   "cell_type": "code",
   "execution_count": 55,
   "metadata": {},
   "outputs": [
    {
     "name": "stdout",
     "output_type": "stream",
     "text": [
      "Started an itteration\n",
      "Started an itteration\n",
      "Started an itteration\n",
      "Started an itteration\n",
      "Started an itteration\n",
      "Started an itteration\n",
      "Started an itteration\n",
      "Started an itteration\n",
      "Started an itteration\n",
      "Started an itteration\n"
     ]
    }
   ],
   "source": [
    "C = [0.001, 0.01, 0.1, 1, 10, 100]\n",
    "\n",
    "skf = StratifiedKFold(n_splits=10)\n",
    "\n",
    "regularization_type = 'l2'\n",
    "\n",
    "LogRegRFP = pd.DataFrame(columns=['C', 'met''recall', 'precision', 'f-score'])\n",
    "\n",
    "\n",
    "if regularization_type == 'l2':\n",
    "    multiclass_approach = 'multinomial'\n",
    "    solver = 'saga'\n",
    "else:\n",
    "    multiclass_approach = 'ovr'\n",
    "    solver = 'liblinear'\n",
    "\n",
    "for train_index, test_index in skf.split(X, y):\n",
    "    print('Started an itteration')\n",
    "    X_train, X_test = X[train_index], X[test_index]\n",
    "    y_train, y_test = y[train_index], y[test_index]\n",
    "    for c in C:\n",
    "        clf = LogisticRegression(\n",
    "            penalty=regularization_type, \n",
    "            C=c, \n",
    "            multi_class=multiclass_approach, \n",
    "            solver=solver, \n",
    "            max_iter=192,\n",
    "            class_weight='balanced'\n",
    "            \n",
    "        ).fit(X_train, y_train)\n",
    "        \n",
    "        y_pred = clf.predict(X_test)\n",
    "        \n",
    "        LogRegRFP.loc[len(LogRegRFP)] = [\n",
    "            c, \n",
    "            recall_score(y_test, y_pred, average='macro'),\n",
    "            precision_score(y_test, y_pred, average='macro'),\n",
    "            f1_score(y_test, y_pred, average='macro')\n",
    "        ]\n",
    "        \n",
    "\n"
   ]
  },
  {
   "cell_type": "code",
   "execution_count": 15,
   "metadata": {},
   "outputs": [
    {
     "data": {
      "text/plain": [
       "[array([0.99490544, 0.99494191, 0.99494191, 0.99494191, 0.99494191]),\n",
       " array([0.99490544, 0.99494191, 0.99494191, 0.99494191, 0.99494191]),\n",
       " array([0.99490544, 0.99468534, 0.99494191, 0.99494191, 0.99494191]),\n",
       " array([0.99490544, 0.99494191, 0.99494191, 0.99494191, 0.99494191]),\n",
       " array([0.99490544, 0.99494191, 0.99494191, 0.99494191, 0.99494191])]"
      ]
     },
     "execution_count": 15,
     "metadata": {},
     "output_type": "execute_result"
    }
   ],
   "source": [
    "scores"
   ]
  },
  {
   "cell_type": "code",
   "execution_count": 37,
   "metadata": {},
   "outputs": [
    {
     "name": "stdout",
     "output_type": "stream",
     "text": [
      "(136416,)\n",
      "(136416,)\n",
      "(136416,)\n",
      "(136416,)\n",
      "(136416,)\n",
      "(136416,)\n",
      "(136416,)\n",
      "(136416,)\n",
      "(136416,)\n",
      "(136416,)\n"
     ]
    }
   ],
   "source": [
    "for train_index, test_index in skf.split(X, y):\n",
    "    print(sum(y[test_index] == 3))\n",
    "    "
   ]
  },
  {
   "cell_type": "code",
   "execution_count": 46,
   "metadata": {},
   "outputs": [],
   "source": [
    "# LogRegRFP"
   ]
  },
  {
   "cell_type": "code",
   "execution_count": 25,
   "metadata": {},
   "outputs": [
    {
     "data": {
      "text/plain": [
       "0"
      ]
     },
     "execution_count": 25,
     "metadata": {},
     "output_type": "execute_result"
    }
   ],
   "source": [
    "len(dataframes['freq_filt'][dataframes['freq_filt'].isna().any(axis=1)])"
   ]
  },
  {
   "cell_type": "code",
   "execution_count": 67,
   "metadata": {},
   "outputs": [
    {
     "data": {
      "text/html": [
       "<div>\n",
       "<style scoped>\n",
       "    .dataframe tbody tr th:only-of-type {\n",
       "        vertical-align: middle;\n",
       "    }\n",
       "\n",
       "    .dataframe tbody tr th {\n",
       "        vertical-align: top;\n",
       "    }\n",
       "\n",
       "    .dataframe thead th {\n",
       "        text-align: right;\n",
       "    }\n",
       "</style>\n",
       "<table border=\"1\" class=\"dataframe\">\n",
       "  <thead>\n",
       "    <tr style=\"text-align: right;\">\n",
       "      <th></th>\n",
       "      <th>dataset</th>\n",
       "      <th>classifier</th>\n",
       "      <th>hyperparameter</th>\n",
       "      <th>metric</th>\n",
       "      <th>value</th>\n",
       "    </tr>\n",
       "  </thead>\n",
       "  <tbody>\n",
       "    <tr>\n",
       "      <td>0</td>\n",
       "      <td>no_preprocessing</td>\n",
       "      <td>LogReg</td>\n",
       "      <td>0.03</td>\n",
       "      <td>recall</td>\n",
       "      <td>0.360097</td>\n",
       "    </tr>\n",
       "    <tr>\n",
       "      <td>1</td>\n",
       "      <td>no_preprocessing</td>\n",
       "      <td>LogReg</td>\n",
       "      <td>0.03</td>\n",
       "      <td>precision</td>\n",
       "      <td>0.250500</td>\n",
       "    </tr>\n",
       "    <tr>\n",
       "      <td>2</td>\n",
       "      <td>no_preprocessing</td>\n",
       "      <td>LogReg</td>\n",
       "      <td>0.03</td>\n",
       "      <td>fscore</td>\n",
       "      <td>0.182764</td>\n",
       "    </tr>\n",
       "    <tr>\n",
       "      <td>3</td>\n",
       "      <td>no_preprocessing</td>\n",
       "      <td>LogReg</td>\n",
       "      <td>0.10</td>\n",
       "      <td>recall</td>\n",
       "      <td>0.350077</td>\n",
       "    </tr>\n",
       "    <tr>\n",
       "      <td>4</td>\n",
       "      <td>no_preprocessing</td>\n",
       "      <td>LogReg</td>\n",
       "      <td>0.10</td>\n",
       "      <td>precision</td>\n",
       "      <td>0.250913</td>\n",
       "    </tr>\n",
       "  </tbody>\n",
       "</table>\n",
       "</div>"
      ],
      "text/plain": [
       "            dataset classifier  hyperparameter     metric     value\n",
       "0  no_preprocessing     LogReg            0.03     recall  0.360097\n",
       "1  no_preprocessing     LogReg            0.03  precision  0.250500\n",
       "2  no_preprocessing     LogReg            0.03     fscore  0.182764\n",
       "3  no_preprocessing     LogReg            0.10     recall  0.350077\n",
       "4  no_preprocessing     LogReg            0.10  precision  0.250913"
      ]
     },
     "execution_count": 67,
     "metadata": {},
     "output_type": "execute_result"
    }
   ],
   "source": [
    "CR = Classification_Results.copy()\n",
    "CR.head()"
   ]
  },
  {
   "cell_type": "code",
   "execution_count": 49,
   "metadata": {},
   "outputs": [],
   "source": [
    "CR.drop(CR[CR['classifier'] == 'SVM'].index, inplace=True)"
   ]
  },
  {
   "cell_type": "code",
   "execution_count": 68,
   "metadata": {},
   "outputs": [
    {
     "data": {
      "text/html": [
       "<div>\n",
       "<style scoped>\n",
       "    .dataframe tbody tr th:only-of-type {\n",
       "        vertical-align: middle;\n",
       "    }\n",
       "\n",
       "    .dataframe tbody tr th {\n",
       "        vertical-align: top;\n",
       "    }\n",
       "\n",
       "    .dataframe thead th {\n",
       "        text-align: right;\n",
       "    }\n",
       "</style>\n",
       "<table border=\"1\" class=\"dataframe\">\n",
       "  <thead>\n",
       "    <tr style=\"text-align: right;\">\n",
       "      <th></th>\n",
       "      <th>dataset</th>\n",
       "      <th>classifier</th>\n",
       "      <th>hyperparameter</th>\n",
       "      <th>metric</th>\n",
       "      <th>value</th>\n",
       "    </tr>\n",
       "  </thead>\n",
       "  <tbody>\n",
       "    <tr>\n",
       "      <td>0</td>\n",
       "      <td>lowercase</td>\n",
       "      <td>SVM</td>\n",
       "      <td>0.25</td>\n",
       "      <td>recall</td>\n",
       "      <td>0.250000</td>\n",
       "    </tr>\n",
       "    <tr>\n",
       "      <td>1</td>\n",
       "      <td>lowercase</td>\n",
       "      <td>SVM</td>\n",
       "      <td>0.25</td>\n",
       "      <td>precision</td>\n",
       "      <td>0.248736</td>\n",
       "    </tr>\n",
       "    <tr>\n",
       "      <td>2</td>\n",
       "      <td>lowercase</td>\n",
       "      <td>SVM</td>\n",
       "      <td>0.25</td>\n",
       "      <td>fscore</td>\n",
       "      <td>0.249366</td>\n",
       "    </tr>\n",
       "    <tr>\n",
       "      <td>3</td>\n",
       "      <td>lowercase</td>\n",
       "      <td>SVM</td>\n",
       "      <td>1.00</td>\n",
       "      <td>recall</td>\n",
       "      <td>0.250000</td>\n",
       "    </tr>\n",
       "    <tr>\n",
       "      <td>4</td>\n",
       "      <td>lowercase</td>\n",
       "      <td>SVM</td>\n",
       "      <td>1.00</td>\n",
       "      <td>precision</td>\n",
       "      <td>0.248736</td>\n",
       "    </tr>\n",
       "  </tbody>\n",
       "</table>\n",
       "</div>"
      ],
      "text/plain": [
       "     dataset classifier  hyperparameter     metric     value\n",
       "0  lowercase        SVM            0.25     recall  0.250000\n",
       "1  lowercase        SVM            0.25  precision  0.248736\n",
       "2  lowercase        SVM            0.25     fscore  0.249366\n",
       "3  lowercase        SVM            1.00     recall  0.250000\n",
       "4  lowercase        SVM            1.00  precision  0.248736"
      ]
     },
     "execution_count": 68,
     "metadata": {},
     "output_type": "execute_result"
    }
   ],
   "source": [
    "SVM_results = pd.read_csv('temp_results_v2.csv').drop('Unnamed: 0', axis=1)\n",
    "SVM_results.head()"
   ]
  },
  {
   "cell_type": "code",
   "execution_count": 69,
   "metadata": {},
   "outputs": [
    {
     "data": {
      "text/html": [
       "<div>\n",
       "<style scoped>\n",
       "    .dataframe tbody tr th:only-of-type {\n",
       "        vertical-align: middle;\n",
       "    }\n",
       "\n",
       "    .dataframe tbody tr th {\n",
       "        vertical-align: top;\n",
       "    }\n",
       "\n",
       "    .dataframe thead th {\n",
       "        text-align: right;\n",
       "    }\n",
       "</style>\n",
       "<table border=\"1\" class=\"dataframe\">\n",
       "  <thead>\n",
       "    <tr style=\"text-align: right;\">\n",
       "      <th></th>\n",
       "      <th>dataset</th>\n",
       "      <th>classifier</th>\n",
       "      <th>hyperparameter</th>\n",
       "      <th>metric</th>\n",
       "      <th>value</th>\n",
       "    </tr>\n",
       "  </thead>\n",
       "  <tbody>\n",
       "    <tr>\n",
       "      <td>0</td>\n",
       "      <td>no_preprocessing</td>\n",
       "      <td>LogReg</td>\n",
       "      <td>0.03</td>\n",
       "      <td>recall</td>\n",
       "      <td>0.360097</td>\n",
       "    </tr>\n",
       "    <tr>\n",
       "      <td>1</td>\n",
       "      <td>no_preprocessing</td>\n",
       "      <td>LogReg</td>\n",
       "      <td>0.03</td>\n",
       "      <td>precision</td>\n",
       "      <td>0.250500</td>\n",
       "    </tr>\n",
       "    <tr>\n",
       "      <td>2</td>\n",
       "      <td>no_preprocessing</td>\n",
       "      <td>LogReg</td>\n",
       "      <td>0.03</td>\n",
       "      <td>fscore</td>\n",
       "      <td>0.182764</td>\n",
       "    </tr>\n",
       "    <tr>\n",
       "      <td>3</td>\n",
       "      <td>no_preprocessing</td>\n",
       "      <td>LogReg</td>\n",
       "      <td>0.10</td>\n",
       "      <td>recall</td>\n",
       "      <td>0.350077</td>\n",
       "    </tr>\n",
       "    <tr>\n",
       "      <td>4</td>\n",
       "      <td>no_preprocessing</td>\n",
       "      <td>LogReg</td>\n",
       "      <td>0.10</td>\n",
       "      <td>precision</td>\n",
       "      <td>0.250913</td>\n",
       "    </tr>\n",
       "  </tbody>\n",
       "</table>\n",
       "</div>"
      ],
      "text/plain": [
       "            dataset classifier  hyperparameter     metric     value\n",
       "0  no_preprocessing     LogReg            0.03     recall  0.360097\n",
       "1  no_preprocessing     LogReg            0.03  precision  0.250500\n",
       "2  no_preprocessing     LogReg            0.03     fscore  0.182764\n",
       "3  no_preprocessing     LogReg            0.10     recall  0.350077\n",
       "4  no_preprocessing     LogReg            0.10  precision  0.250913"
      ]
     },
     "execution_count": 69,
     "metadata": {},
     "output_type": "execute_result"
    }
   ],
   "source": [
    "results = CR.append(SVM_results).reset_index(drop=True)\n",
    "results.head()"
   ]
  },
  {
   "cell_type": "code",
   "execution_count": 70,
   "metadata": {},
   "outputs": [
    {
     "data": {
      "text/html": [
       "<div>\n",
       "<style scoped>\n",
       "    .dataframe tbody tr th:only-of-type {\n",
       "        vertical-align: middle;\n",
       "    }\n",
       "\n",
       "    .dataframe tbody tr th {\n",
       "        vertical-align: top;\n",
       "    }\n",
       "\n",
       "    .dataframe thead th {\n",
       "        text-align: right;\n",
       "    }\n",
       "</style>\n",
       "<table border=\"1\" class=\"dataframe\">\n",
       "  <thead>\n",
       "    <tr style=\"text-align: right;\">\n",
       "      <th></th>\n",
       "      <th>dataset</th>\n",
       "      <th>classifier</th>\n",
       "      <th>hyperparameter</th>\n",
       "      <th>metric</th>\n",
       "      <th>value</th>\n",
       "    </tr>\n",
       "  </thead>\n",
       "  <tbody>\n",
       "    <tr>\n",
       "      <td>1615</td>\n",
       "      <td>tf_ponderisanje</td>\n",
       "      <td>SVM</td>\n",
       "      <td>1.0</td>\n",
       "      <td>precision</td>\n",
       "      <td>0.248735</td>\n",
       "    </tr>\n",
       "    <tr>\n",
       "      <td>1616</td>\n",
       "      <td>tf_ponderisanje</td>\n",
       "      <td>SVM</td>\n",
       "      <td>1.0</td>\n",
       "      <td>fscore</td>\n",
       "      <td>0.249366</td>\n",
       "    </tr>\n",
       "    <tr>\n",
       "      <td>1617</td>\n",
       "      <td>tf_ponderisanje</td>\n",
       "      <td>SVM</td>\n",
       "      <td>4.0</td>\n",
       "      <td>recall</td>\n",
       "      <td>0.250000</td>\n",
       "    </tr>\n",
       "    <tr>\n",
       "      <td>1618</td>\n",
       "      <td>tf_ponderisanje</td>\n",
       "      <td>SVM</td>\n",
       "      <td>4.0</td>\n",
       "      <td>precision</td>\n",
       "      <td>0.248735</td>\n",
       "    </tr>\n",
       "    <tr>\n",
       "      <td>1619</td>\n",
       "      <td>tf_ponderisanje</td>\n",
       "      <td>SVM</td>\n",
       "      <td>4.0</td>\n",
       "      <td>fscore</td>\n",
       "      <td>0.249366</td>\n",
       "    </tr>\n",
       "  </tbody>\n",
       "</table>\n",
       "</div>"
      ],
      "text/plain": [
       "              dataset classifier  hyperparameter     metric     value\n",
       "1615  tf_ponderisanje        SVM             1.0  precision  0.248735\n",
       "1616  tf_ponderisanje        SVM             1.0     fscore  0.249366\n",
       "1617  tf_ponderisanje        SVM             4.0     recall  0.250000\n",
       "1618  tf_ponderisanje        SVM             4.0  precision  0.248735\n",
       "1619  tf_ponderisanje        SVM             4.0     fscore  0.249366"
      ]
     },
     "execution_count": 70,
     "metadata": {},
     "output_type": "execute_result"
    }
   ],
   "source": [
    "results.tail()"
   ]
  },
  {
   "cell_type": "code",
   "execution_count": 71,
   "metadata": {},
   "outputs": [],
   "source": [
    "results.to_csv('Classification Results.csv', index=False)"
   ]
  },
  {
   "cell_type": "code",
   "execution_count": 66,
   "metadata": {},
   "outputs": [
    {
     "data": {
      "text/html": [
       "<div>\n",
       "<style scoped>\n",
       "    .dataframe tbody tr th:only-of-type {\n",
       "        vertical-align: middle;\n",
       "    }\n",
       "\n",
       "    .dataframe tbody tr th {\n",
       "        vertical-align: top;\n",
       "    }\n",
       "\n",
       "    .dataframe thead th {\n",
       "        text-align: right;\n",
       "    }\n",
       "</style>\n",
       "<table border=\"1\" class=\"dataframe\">\n",
       "  <thead>\n",
       "    <tr style=\"text-align: right;\">\n",
       "      <th></th>\n",
       "      <th>dataset</th>\n",
       "      <th>classifier</th>\n",
       "      <th>hyperparameter</th>\n",
       "      <th>metric</th>\n",
       "      <th>value</th>\n",
       "    </tr>\n",
       "  </thead>\n",
       "  <tbody>\n",
       "    <tr>\n",
       "      <td>900</td>\n",
       "      <td>no_preprocessing</td>\n",
       "      <td>SVM</td>\n",
       "      <td>0.25</td>\n",
       "      <td>recall</td>\n",
       "      <td>0.250000</td>\n",
       "    </tr>\n",
       "    <tr>\n",
       "      <td>901</td>\n",
       "      <td>no_preprocessing</td>\n",
       "      <td>SVM</td>\n",
       "      <td>0.25</td>\n",
       "      <td>precision</td>\n",
       "      <td>0.248736</td>\n",
       "    </tr>\n",
       "    <tr>\n",
       "      <td>902</td>\n",
       "      <td>no_preprocessing</td>\n",
       "      <td>SVM</td>\n",
       "      <td>0.25</td>\n",
       "      <td>fscore</td>\n",
       "      <td>0.249366</td>\n",
       "    </tr>\n",
       "    <tr>\n",
       "      <td>903</td>\n",
       "      <td>no_preprocessing</td>\n",
       "      <td>SVM</td>\n",
       "      <td>1.00</td>\n",
       "      <td>recall</td>\n",
       "      <td>0.250000</td>\n",
       "    </tr>\n",
       "    <tr>\n",
       "      <td>904</td>\n",
       "      <td>no_preprocessing</td>\n",
       "      <td>SVM</td>\n",
       "      <td>1.00</td>\n",
       "      <td>precision</td>\n",
       "      <td>0.248736</td>\n",
       "    </tr>\n",
       "    <tr>\n",
       "      <td>...</td>\n",
       "      <td>...</td>\n",
       "      <td>...</td>\n",
       "      <td>...</td>\n",
       "      <td>...</td>\n",
       "      <td>...</td>\n",
       "    </tr>\n",
       "    <tr>\n",
       "      <td>1075</td>\n",
       "      <td>freq_filt</td>\n",
       "      <td>SVM</td>\n",
       "      <td>1.00</td>\n",
       "      <td>precision</td>\n",
       "      <td>0.248716</td>\n",
       "    </tr>\n",
       "    <tr>\n",
       "      <td>1076</td>\n",
       "      <td>freq_filt</td>\n",
       "      <td>SVM</td>\n",
       "      <td>1.00</td>\n",
       "      <td>fscore</td>\n",
       "      <td>0.249356</td>\n",
       "    </tr>\n",
       "    <tr>\n",
       "      <td>1077</td>\n",
       "      <td>freq_filt</td>\n",
       "      <td>SVM</td>\n",
       "      <td>4.00</td>\n",
       "      <td>recall</td>\n",
       "      <td>0.250000</td>\n",
       "    </tr>\n",
       "    <tr>\n",
       "      <td>1078</td>\n",
       "      <td>freq_filt</td>\n",
       "      <td>SVM</td>\n",
       "      <td>4.00</td>\n",
       "      <td>precision</td>\n",
       "      <td>0.248716</td>\n",
       "    </tr>\n",
       "    <tr>\n",
       "      <td>1079</td>\n",
       "      <td>freq_filt</td>\n",
       "      <td>SVM</td>\n",
       "      <td>4.00</td>\n",
       "      <td>fscore</td>\n",
       "      <td>0.249356</td>\n",
       "    </tr>\n",
       "  </tbody>\n",
       "</table>\n",
       "<p>180 rows × 5 columns</p>\n",
       "</div>"
      ],
      "text/plain": [
       "               dataset classifier  hyperparameter     metric     value\n",
       "900   no_preprocessing        SVM            0.25     recall  0.250000\n",
       "901   no_preprocessing        SVM            0.25  precision  0.248736\n",
       "902   no_preprocessing        SVM            0.25     fscore  0.249366\n",
       "903   no_preprocessing        SVM            1.00     recall  0.250000\n",
       "904   no_preprocessing        SVM            1.00  precision  0.248736\n",
       "...                ...        ...             ...        ...       ...\n",
       "1075         freq_filt        SVM            1.00  precision  0.248716\n",
       "1076         freq_filt        SVM            1.00     fscore  0.249356\n",
       "1077         freq_filt        SVM            4.00     recall  0.250000\n",
       "1078         freq_filt        SVM            4.00  precision  0.248716\n",
       "1079         freq_filt        SVM            4.00     fscore  0.249356\n",
       "\n",
       "[180 rows x 5 columns]"
      ]
     },
     "execution_count": 66,
     "metadata": {},
     "output_type": "execute_result"
    }
   ],
   "source": [
    "Classification_Results[Classification_Results.classifier=='SVM']"
   ]
  },
  {
   "cell_type": "code",
   "execution_count": 156,
   "metadata": {},
   "outputs": [],
   "source": [
    "y_pred = classifiers['LogReg']['tfidf_ponderisanje'][1][3].predict(X_test)"
   ]
  },
  {
   "cell_type": "code",
   "execution_count": 157,
   "metadata": {},
   "outputs": [
    {
     "data": {
      "text/plain": [
       "array([[ 1185,     0, 12366,    21],\n",
       "       [    1,     0,    40,     0],\n",
       "       [    3,     0,    13,     0],\n",
       "       [    2,     0,    10,     0]])"
      ]
     },
     "execution_count": 157,
     "metadata": {},
     "output_type": "execute_result"
    }
   ],
   "source": [
    "confusion_matrix(y_test, y_pred)"
   ]
  },
  {
   "cell_type": "code",
   "execution_count": 107,
   "metadata": {},
   "outputs": [],
   "source": [
    "# Posto smo zaboravili TFIDF, posebno obucavamo modele za TFIDF"
   ]
  },
  {
   "cell_type": "code",
   "execution_count": 134,
   "metadata": {},
   "outputs": [],
   "source": [
    "Classification_Results2 = pd.DataFrame(columns=['dataset', 'classifier', 'hyperparameter', 'metric', 'value'])"
   ]
  },
  {
   "cell_type": "code",
   "execution_count": 122,
   "metadata": {},
   "outputs": [],
   "source": [
    "Classification_Results2.to_csv('temp_results_v5.csv', index=False)"
   ]
  },
  {
   "cell_type": "code",
   "execution_count": 140,
   "metadata": {},
   "outputs": [
    {
     "data": {
      "text/html": [
       "<div>\n",
       "<style scoped>\n",
       "    .dataframe tbody tr th:only-of-type {\n",
       "        vertical-align: middle;\n",
       "    }\n",
       "\n",
       "    .dataframe tbody tr th {\n",
       "        vertical-align: top;\n",
       "    }\n",
       "\n",
       "    .dataframe thead th {\n",
       "        text-align: right;\n",
       "    }\n",
       "</style>\n",
       "<table border=\"1\" class=\"dataframe\">\n",
       "  <thead>\n",
       "    <tr style=\"text-align: right;\">\n",
       "      <th></th>\n",
       "      <th>dataset</th>\n",
       "      <th>classifier</th>\n",
       "      <th>hyperparameter</th>\n",
       "      <th>metric</th>\n",
       "      <th>value</th>\n",
       "    </tr>\n",
       "  </thead>\n",
       "  <tbody>\n",
       "    <tr>\n",
       "      <td>0</td>\n",
       "      <td>tfidf_ponderisanje</td>\n",
       "      <td>LogReg</td>\n",
       "      <td>0.03</td>\n",
       "      <td>recall</td>\n",
       "      <td>0.359047</td>\n",
       "    </tr>\n",
       "    <tr>\n",
       "      <td>1</td>\n",
       "      <td>tfidf_ponderisanje</td>\n",
       "      <td>LogReg</td>\n",
       "      <td>0.03</td>\n",
       "      <td>precision</td>\n",
       "      <td>0.251140</td>\n",
       "    </tr>\n",
       "    <tr>\n",
       "      <td>2</td>\n",
       "      <td>tfidf_ponderisanje</td>\n",
       "      <td>LogReg</td>\n",
       "      <td>0.03</td>\n",
       "      <td>fscore</td>\n",
       "      <td>0.159441</td>\n",
       "    </tr>\n",
       "    <tr>\n",
       "      <td>3</td>\n",
       "      <td>tfidf_ponderisanje</td>\n",
       "      <td>LogReg</td>\n",
       "      <td>0.10</td>\n",
       "      <td>recall</td>\n",
       "      <td>0.257763</td>\n",
       "    </tr>\n",
       "    <tr>\n",
       "      <td>4</td>\n",
       "      <td>tfidf_ponderisanje</td>\n",
       "      <td>LogReg</td>\n",
       "      <td>0.10</td>\n",
       "      <td>precision</td>\n",
       "      <td>0.251999</td>\n",
       "    </tr>\n",
       "    <tr>\n",
       "      <td>...</td>\n",
       "      <td>...</td>\n",
       "      <td>...</td>\n",
       "      <td>...</td>\n",
       "      <td>...</td>\n",
       "      <td>...</td>\n",
       "    </tr>\n",
       "    <tr>\n",
       "      <td>265</td>\n",
       "      <td>tfidf_ponderisanje</td>\n",
       "      <td>MNB</td>\n",
       "      <td>0.00</td>\n",
       "      <td>precision</td>\n",
       "      <td>0.250441</td>\n",
       "    </tr>\n",
       "    <tr>\n",
       "      <td>266</td>\n",
       "      <td>tfidf_ponderisanje</td>\n",
       "      <td>MNB</td>\n",
       "      <td>0.00</td>\n",
       "      <td>fscore</td>\n",
       "      <td>0.249863</td>\n",
       "    </tr>\n",
       "    <tr>\n",
       "      <td>267</td>\n",
       "      <td>tfidf_ponderisanje</td>\n",
       "      <td>MNB</td>\n",
       "      <td>0.00</td>\n",
       "      <td>recall</td>\n",
       "      <td>0.234361</td>\n",
       "    </tr>\n",
       "    <tr>\n",
       "      <td>268</td>\n",
       "      <td>tfidf_ponderisanje</td>\n",
       "      <td>MNB</td>\n",
       "      <td>0.00</td>\n",
       "      <td>precision</td>\n",
       "      <td>0.248866</td>\n",
       "    </tr>\n",
       "    <tr>\n",
       "      <td>269</td>\n",
       "      <td>tfidf_ponderisanje</td>\n",
       "      <td>MNB</td>\n",
       "      <td>0.00</td>\n",
       "      <td>fscore</td>\n",
       "      <td>0.241396</td>\n",
       "    </tr>\n",
       "  </tbody>\n",
       "</table>\n",
       "<p>270 rows × 5 columns</p>\n",
       "</div>"
      ],
      "text/plain": [
       "                dataset classifier  hyperparameter     metric     value\n",
       "0    tfidf_ponderisanje     LogReg            0.03     recall  0.359047\n",
       "1    tfidf_ponderisanje     LogReg            0.03  precision  0.251140\n",
       "2    tfidf_ponderisanje     LogReg            0.03     fscore  0.159441\n",
       "3    tfidf_ponderisanje     LogReg            0.10     recall  0.257763\n",
       "4    tfidf_ponderisanje     LogReg            0.10  precision  0.251999\n",
       "..                  ...        ...             ...        ...       ...\n",
       "265  tfidf_ponderisanje        MNB            0.00  precision  0.250441\n",
       "266  tfidf_ponderisanje        MNB            0.00     fscore  0.249863\n",
       "267  tfidf_ponderisanje        MNB            0.00     recall  0.234361\n",
       "268  tfidf_ponderisanje        MNB            0.00  precision  0.248866\n",
       "269  tfidf_ponderisanje        MNB            0.00     fscore  0.241396\n",
       "\n",
       "[270 rows x 5 columns]"
      ]
     },
     "execution_count": 140,
     "metadata": {},
     "output_type": "execute_result"
    }
   ],
   "source": [
    "Classification_Results2"
   ]
  },
  {
   "cell_type": "code",
   "execution_count": null,
   "metadata": {},
   "outputs": [],
   "source": []
  }
 ],
 "metadata": {
  "kernelspec": {
   "display_name": "Python 3",
   "language": "python",
   "name": "python3"
  },
  "language_info": {
   "codemirror_mode": {
    "name": "ipython",
    "version": 3
   },
   "file_extension": ".py",
   "mimetype": "text/x-python",
   "name": "python",
   "nbconvert_exporter": "python",
   "pygments_lexer": "ipython3",
   "version": "3.6.9"
  }
 },
 "nbformat": 4,
 "nbformat_minor": 2
}
